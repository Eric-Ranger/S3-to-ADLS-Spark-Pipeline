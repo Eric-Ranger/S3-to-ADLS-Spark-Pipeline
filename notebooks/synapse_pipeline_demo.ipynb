# Add your Synapse or Jupyter notebook here to orchestrate both scripts.
